{
 "cells": [
  {
   "cell_type": "markdown",
   "metadata": {
    "collapsed": true
   },
   "source": [
    "In this notebook, we will be covering an overview of digital signal processing. We will use the text \"Signal Processing of Discrete-Time Signals\" by Andrew Singer and David C. Munson Jr. as our reference. A physical version of the book can be obtained from the ECE Store at the University of Illinois at Urbana-Champaign."
   ]
  },
  {
   "cell_type": "code",
   "execution_count": 1,
   "metadata": {
    "collapsed": true
   },
   "outputs": [],
   "source": [
    "# imports\n",
    "%matplotlib inline\n",
    "import numpy as np\n",
    "import matplotlib.pyplot as plt"
   ]
  },
  {
   "cell_type": "markdown",
   "metadata": {},
   "source": [
    "# DSP Overview"
   ]
  },
  {
   "cell_type": "markdown",
   "metadata": {},
   "source": [
    "## 1 - What is a signal?"
   ]
  },
  {
   "cell_type": "markdown",
   "metadata": {},
   "source": [
    "A signal, according to the book, is a \"measurement of quantity of interest that is indexed by an associated reference axis\". In laymen's terms, it's anything that can be expressed as a list of numbers in a sequence. One of the simplest signals we can think of is a sine wave:"
   ]
  },
  {
   "cell_type": "code",
   "execution_count": 5,
   "metadata": {
    "collapsed": false
   },
   "outputs": [
    {
     "data": {
      "text/plain": [
       "[<matplotlib.lines.Line2D at 0x8186198>]"
      ]
     },
     "execution_count": 5,
     "metadata": {},
     "output_type": "execute_result"
    },
    {
     "data": {
      "image/png": "[encoded data removed]",
      "text/plain": [
       "<matplotlib.figure.Figure at 0x76ef5f8>"
      ]
     },
     "metadata": {},
     "output_type": "display_data"
    }
   ],
   "source": [
    "# generate 1000 samples of a sine wave\n",
    "t = np.linspace(0,4*np.pi,1000)\n",
    "y = np.sin(t)\n",
    "\n",
    "plt.plot(t,y)"
   ]
  },
  {
   "cell_type": "markdown",
   "metadata": {},
   "source": [
    "If we just print out the sine values, we get a list of numbers, which addresses each element as an integer value (i.e. each value can be accessed by just calling y[index]):"
   ]
  },
  {
   "cell_type": "code",
   "execution_count": 3,
   "metadata": {
    "collapsed": false
   },
   "outputs": [
    {
     "name": "stdout",
     "output_type": "stream",
     "text": [
      "[ 0.00628943  0.01257862  0.0188673   0.02515525  0.03144219  0.03772789\n",
      "  0.0440121   0.05029457  0.05657505  0.06285329  0.06912904  0.07540206\n",
      "  0.0816721   0.08793891  0.09420224  0.10046184  0.10671747  0.11296887\n",
      "  0.11921581  0.12545803  0.13169529  0.13792734  0.14415393  0.15037482\n",
      "  0.15658976  0.16279851  0.16900082  0.17519644  0.18138514  0.18756665\n",
      "  0.19374075  0.19990719  0.20606571  0.21221609  0.21835807  0.22449141\n",
      "  0.23061587  0.23673121  0.24283719  0.24893355  0.25502008  0.26109651\n",
      "  0.26716262  0.27321815  0.27926288  0.28529657  0.29131896  0.29732984\n",
      "  0.30332895  0.30931606  0.31529094  0.32125334  0.32720304  0.33313979\n",
      "  0.33906337  0.34497353  0.35087005  0.35675269  0.36262121  0.36847539\n",
      "  0.374315    0.3801398   0.38594956  0.39174405  0.39752305  0.40328632\n",
      "  0.40903364  0.41476478  0.42047951  0.42617761  0.43185885  0.43752301\n",
      "  0.44316986  0.44879918  0.45441075  0.46000434  0.46557973  0.47113671\n",
      "  0.47667505  0.48219453  0.48769494  0.49317606  0.49863767  0.50407956\n",
      "  0.5095015   0.51490329  0.52028471  0.52564555  0.5309856   0.53630464\n",
      "  0.54160247  0.54687888  0.55213365  0.55736658  0.56257746  0.56776609\n",
      "  0.57293225  0.57807576  0.5831964 ]\n",
      "-0.00314473220774\n"
     ]
    }
   ],
   "source": [
    "print y[1:100]\n",
    "print y[500]"
   ]
  },
  {
   "cell_type": "markdown",
   "metadata": {},
   "source": [
    "While these signals look continuous, they really aren't. A computer can't _really_ display a continuous signal - everything has to be stored in some form of table, and the amount of space needed to store even a \"normal\" continuous signal, like a piece of music or an electromagnetic wave, quickly approaches infinity. So we need to \"sample\" our signal, or take regular measurements of the sound or the wave. These are the points we see above. So the real sine wave really lookes like this:"
   ]
  },
  {
   "cell_type": "code",
   "execution_count": 4,
   "metadata": {
    "collapsed": false
   },
   "outputs": [
    {
     "data": {
      "text/plain": [
       "[<matplotlib.lines.Line2D at 0x7f575f8>]"
      ]
     },
     "execution_count": 4,
     "metadata": {},
     "output_type": "execute_result"
    },
    {
     "data": {
      "image/png": "[encoded data removed]",
      "text/plain": [
       "<matplotlib.figure.Figure at 0x79364e0>"
      ]
     },
     "metadata": {},
     "output_type": "display_data"
    }
   ],
   "source": [
    "plt.plot(t[1:100],y[1:100], '.')"
   ]
  },
  {
   "cell_type": "markdown",
   "metadata": {},
   "source": [
    "This is the first 100 samples of our signal, and you can see that it's really made up of very small, discrete values. This is the primary difference between **_analog_** and **_digital_** signals. One is a continunous stream of actual, real-world energy, while the other is simply a sampled analog that tries to approximate the total signal (and usually does pretty well). We'll be dealing pretty much exclusively with digital signals in this course (hence the name Digital Signal Processing). We will cover things like A/D and D/A converters (well, at least the mathematical representation behind them)."
   ]
  },
  {
   "cell_type": "markdown",
   "metadata": {},
   "source": [
    "## 2 - Notation "
   ]
  },
  {
   "cell_type": "markdown",
   "metadata": {},
   "source": [
    "Let's define some notation. When we want to denote a continuous-time signal, we will be used parentheses. For example, a real-world electromagnetic wave as a function of time may be defined as \n",
    "$$y(t)$$ \n",
    "On the other hand, if we want to define a discrete signal (such as an MP3 stored on our computer) we would use square brackets, and as a function of the number of samples. We would define the MP3's function as \n",
    "$$y[n]$$ \n",
    "Note that the units for a discrete signal are actually in _Hz_, which in addition to being cycles per second, we're also defining to be samples per second. It's not a huge difference, but it's good to know nonetheless."
   ]
  },
  {
   "cell_type": "markdown",
   "metadata": {},
   "source": [
    "## 3 - What can we use digital signal processing for?"
   ]
  },
  {
   "cell_type": "markdown",
   "metadata": {
    "collapsed": true
   },
   "source": [
    "Turns out, quite a lot of things. "
   ]
  },
  {
   "cell_type": "markdown",
   "metadata": {},
   "source": [
    "### Image Processing\n",
    "Most pictures you see nowadays use some form of digital signal processing to improve the image:"
   ]
  },
  {
   "cell_type": "markdown",
   "metadata": {},
   "source": [
    "<img src=\"contrast-image-processing.jpg\">"
   ]
  },
  {
   "cell_type": "markdown",
   "metadata": {},
   "source": [
    "On the left we have a really, really terrible image. I mean, just look at it - everything is washed out and hard to see. With some image processing, we can easily clean it up and make the colors stand out into something we can get an understanding of. There are other image processing applications as well, and if you have any questions about this, feel free to talk to me - this is what I'm interested in."
   ]
  },
  {
   "cell_type": "markdown",
   "metadata": {},
   "source": [
    "### Audio Processing\n"
   ]
  },
  {
   "cell_type": "markdown",
   "metadata": {},
   "source": [
    "### Telecommunications"
   ]
  },
  {
   "cell_type": "markdown",
   "metadata": {},
   "source": [
    "### Radar"
   ]
  },
  {
   "cell_type": "markdown",
   "metadata": {},
   "source": [
    "### Controls and Robotics"
   ]
  },
  {
   "cell_type": "markdown",
   "metadata": {},
   "source": [
    "### Machine Learning"
   ]
  },
  {
   "cell_type": "markdown",
   "metadata": {},
   "source": [
    "### Digital Imaging"
   ]
  },
  {
   "cell_type": "markdown",
   "metadata": {},
   "source": [
    "### Biomedical"
   ]
  },
  {
   "cell_type": "markdown",
   "metadata": {},
   "source": [
    "### Financial Signal Processing"
   ]
  },
  {
   "cell_type": "markdown",
   "metadata": {},
   "source": [
    "### Television"
   ]
  }
 ],
 "metadata": {
  "kernelspec": {
   "display_name": "Python 2",
   "language": "python",
   "name": "python2"
  },
  "language_info": {
   "codemirror_mode": {
    "name": "ipython",
    "version": 2
   },
   "file_extension": ".py",
   "mimetype": "text/x-python",
   "name": "python",
   "nbconvert_exporter": "python",
   "pygments_lexer": "ipython2",
   "version": "2.7.11"
  }
 },
 "nbformat": 4,
 "nbformat_minor": 0
}
