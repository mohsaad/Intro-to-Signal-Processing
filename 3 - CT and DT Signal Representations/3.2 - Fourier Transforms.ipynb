{
 "cells": [
  {
   "cell_type": "code",
   "execution_count": 38,
   "metadata": {
    "collapsed": false
   },
   "outputs": [],
   "source": [
    "import numpy as np\n",
    "import matplotlib.pyplot as plt\n",
    "\n",
    "%matplotlib inline"
   ]
  },
  {
   "cell_type": "markdown",
   "metadata": {},
   "source": [
    "# Fourier Transforms"
   ]
  },
  {
   "cell_type": "markdown",
   "metadata": {},
   "source": [
    "So we've learned about Fourier series, which are ways to express a function of time as multiple functions. But there are many ways to represent functions, and they are not just limited to time.\n",
    "\n",
    "For example, what if we wanted to look at the frequencies of a signal?"
   ]
  },
  {
   "cell_type": "code",
   "execution_count": 5,
   "metadata": {
    "collapsed": false
   },
   "outputs": [
    {
     "data": {
      "text/plain": [
       "[<matplotlib.lines.Line2D at 0x7ff3bdf18310>]"
      ]
     },
     "execution_count": 5,
     "metadata": {},
     "output_type": "execute_result"
    },
    {
     "data": {
      "image/png": "[encoded data removed]",
      "text/plain": [
       "<matplotlib.figure.Figure at 0x7ff3c0a40e50>"
      ]
     },
     "metadata": {},
     "output_type": "display_data"
    }
   ],
   "source": [
    "t = np.linspace(0,2,100)\n",
    "y = np.sin(2*np.pi*t) + np.sin(10*np.pi*t)\n",
    "\n",
    "plt.plot(t,y)"
   ]
  },
  {
   "cell_type": "markdown",
   "metadata": {},
   "source": [
    "Here we've generated a signal with two frequencies, added together: $1$ and $5$. What if we eanted to express this signal as a function of its frequencies, instead of a function of time?\n",
    "\n",
    "To do that, we can utilize an operation called the Fourier Transform. Like a Fourier Series, there are two kinds: the continuous and discrete Fourier Transform. We'll start with examples of the Continuous to get an idea of how they work, and then do most of our work with the Discrete Fourier Transform (or DFT)."
   ]
  },
  {
   "cell_type": "markdown",
   "metadata": {},
   "source": [
    "## Continuous Fourier Transform"
   ]
  },
  {
   "cell_type": "markdown",
   "metadata": {},
   "source": [
    "The continuous Fourier transform can be expressed as:\n",
    "\n",
    "$$F(\\omega) = \\int_{-\\infty}^{\\infty} f(t)e^{-j\\omega t} dt$$\n",
    "\n",
    "In non-math terms, what we're doing is taking every instance in time (from negative infinity to infinity) and multiplying it by $e^{-j\\omega t}$ to express our time-based signal as a function of $\\omega$, the frequency. "
   ]
  },
  {
   "cell_type": "markdown",
   "metadata": {
    "collapsed": true
   },
   "source": [
    "Let's quickly do an example of a Fourier Transform, using the above signal as an example. Plugging our function in for $f(t)$\n",
    "\n",
    "$$\\int_{-\\infty}^{\\infty}(\\sin(2\\pi t) + \\sin(10\\pi t))e^{-j\\omega t}dt$$ \n",
    "$$ = \\int_{-\\infty}^{\\infty}\\frac{ e^{j2\\pi t} - e^{-j2\\pi t} + e^{j10\\pi t} - e^{-j10\\pi t}}{2j}e^{-j\\omega t} dt $$\n",
    "$$ = \\int_{-\\infty}^{\\infty}\\frac{ e^{j(2\\pi - \\omega) t} - e^{-j(2\\pi + \\omega) t} + e^{j(10\\pi -\\omega) t} - e^{-j(10\\pi + \\omega) t}}{2j}dt$$\n",
    "$$ = \\frac{1}{2j} (\\frac{e^{jt(2\\pi - \\omega)}}{2\\pi - \\omega} - \\frac{e^{jt(2\\pi + \\omega)}}{2\\pi + \\omega} + \\frac{e^{jt(10\\pi - \\omega)}}{10\\pi - \\omega} - \\frac{e^{jt(10\\pi + \\omega)}}{10\\pi + \\omega})\\Bigr|_{\\substack{t=\\infty\\\\t=-\\infty}} $$\n",
    "$$ = \\frac{1}{2j}(\\delta(\\omega-2\\pi) - \\delta(\\omega+2\\pi) + \\delta(\\omega-10\\pi) -\\delta(\\omega+10\\pi))$$"
   ]
  },
  {
   "cell_type": "markdown",
   "metadata": {
    "collapsed": true
   },
   "source": [
    "...wait, what happened on that last line?\n",
    "\n",
    "The new functions you see are called Dirac Delta functions, or the unit impulse. It's defined as:\n",
    "\n",
    "$$\\delta(t) = \\begin{cases} \n",
    "      \\infty & t=0 \\\\\n",
    "      0 & t \\neq 0\\\\\n",
    "   \\end{cases}\n",
    "$$\n",
    "\n",
    "They're meant to represent a single event occuring on our scale, and nowhere else. So when we have a function $f(t)$ like the one above with frequencies 1 and 5, we will end up with these Dirac Delta functions indicating that there are, in fact, frequencies at 1 and 5!\n",
    "\n",
    "One interesting thing to note is that there exist both positive and negative frequencies. This is because any real-valued signal will have a symmetric Fourier transform around the zero-axis. Complex-valued signals will invert on the other side of the zero-axis. This doesn't necessarily mean that negative frequencies exist (they don't) but it's an artifact of the math that goes on behind the transform itself.\n",
    "\n",
    "Note that the Fourier Transform is in terms of radians, not Hertz - if we divide by $2\\pi$ we find the frequencies we talk about."
   ]
  },
  {
   "cell_type": "markdown",
   "metadata": {},
   "source": [
    "### Magnitude and Phase\n",
    "\n",
    "There are two components that make up the Fourier Transform, and that is it's magnitude and it's phase. Magnitude is relatively simple, and it's what we usually use when we look at a Fourier Transform. It's just the absolute value of the transform.\n",
    "\n",
    "For example, the magnitude of the signal above will be, as a plot:"
   ]
  },
  {
   "cell_type": "code",
   "execution_count": 39,
   "metadata": {
    "collapsed": false
   },
   "outputs": [
    {
     "data": {
      "text/plain": [
       "(0, 2)"
      ]
     },
     "execution_count": 39,
     "metadata": {},
     "output_type": "execute_result"
    },
    {
     "data": {
      "image/png": "[encoded data removed]",
      "text/plain": [
       "<matplotlib.figure.Figure at 0x7ff3bd515c90>"
      ]
     },
     "metadata": {},
     "output_type": "display_data"
    }
   ],
   "source": [
    "freqs = np.linspace(-10,10,100)\n",
    "transform_mag = [0 for i in range(0, len(freqs))]\n",
    "\n",
    "# I defined these by hand, since this is continuous and therefore\n",
    "# not something the computer can do.\n",
    "transform_mag[25] = 1\n",
    "transform_mag[45] = 1\n",
    "transform_mag[55] = 1\n",
    "transform_mag[75] = 1\n",
    "        \n",
    "        \n",
    "plt.plot(freqs, transform_mag, 'o')\n",
    "plt.vlines([freqs[25],freqs[45],freqs[55], freqs[75]],0,1)\n",
    "plt.ylim([0,2])\n"
   ]
  }
 ],
 "metadata": {
  "kernelspec": {
   "display_name": "Python 2",
   "language": "python",
   "name": "python2"
  },
  "language_info": {
   "codemirror_mode": {
    "name": "ipython",
    "version": 2
   },
   "file_extension": ".py",
   "mimetype": "text/x-python",
   "name": "python",
   "nbconvert_exporter": "python",
   "pygments_lexer": "ipython2",
   "version": "2.7.11"
  }
 },
 "nbformat": 4,
 "nbformat_minor": 0
}
